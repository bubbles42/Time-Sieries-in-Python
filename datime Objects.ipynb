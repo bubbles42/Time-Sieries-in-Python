{
 "cells": [
  {
   "cell_type": "code",
   "execution_count": 1,
   "id": "7b456e9b-fedd-467f-a3dc-5ece3a515055",
   "metadata": {},
   "outputs": [],
   "source": [
    "import datetime as dt"
   ]
  },
  {
   "cell_type": "code",
   "execution_count": 2,
   "id": "9d7eb049-5383-48a1-8c03-7abafdbe20a5",
   "metadata": {},
   "outputs": [
    {
     "data": {
      "text/plain": [
       "datetime.datetime(2023, 12, 18, 9, 56, 25, 584183)"
      ]
     },
     "execution_count": 2,
     "metadata": {},
     "output_type": "execute_result"
    }
   ],
   "source": [
    "now = dt.datetime.now()\n",
    "now"
   ]
  },
  {
   "cell_type": "code",
   "execution_count": 4,
   "id": "4d2bf850-7a71-475e-9022-4b99c05e412c",
   "metadata": {},
   "outputs": [
    {
     "name": "stdout",
     "output_type": "stream",
     "text": [
      "2023\n"
     ]
    },
    {
     "data": {
      "text/plain": [
       "12"
      ]
     },
     "execution_count": 4,
     "metadata": {},
     "output_type": "execute_result"
    }
   ],
   "source": [
    "print(now.year)\n",
    "now.month"
   ]
  },
  {
   "cell_type": "code",
   "execution_count": 5,
   "id": "ab3f77b1-1117-4ce7-98ee-f28d44419c61",
   "metadata": {},
   "outputs": [
    {
     "data": {
      "text/plain": [
       "datetime.datetime(2023, 12, 18, 9, 56, 25, 584183)"
      ]
     },
     "metadata": {},
     "output_type": "display_data"
    }
   ],
   "source": [
    "display(now)"
   ]
  },
  {
   "cell_type": "code",
   "execution_count": 6,
   "id": "399bfd1e-ee4d-4913-ad41-4c62599dea48",
   "metadata": {},
   "outputs": [
    {
     "name": "stdout",
     "output_type": "stream",
     "text": [
      "2023-12-18 09:56:25.584183\n"
     ]
    }
   ],
   "source": [
    "print(now)"
   ]
  },
  {
   "cell_type": "code",
   "execution_count": 7,
   "id": "a8824016-6fe9-41f6-9f1b-0534be5931d9",
   "metadata": {},
   "outputs": [
    {
     "data": {
      "text/plain": [
       "datetime.datetime(2023, 12, 18, 9, 56, 25, 584183)"
      ]
     },
     "execution_count": 7,
     "metadata": {},
     "output_type": "execute_result"
    }
   ],
   "source": [
    "now"
   ]
  },
  {
   "cell_type": "markdown",
   "id": "54b88f3f-f1ce-46e9-840a-9748e1959051",
   "metadata": {},
   "source": [
    "DateTime objects have a specific date format.\n",
    "\r\n",
    "The default format for aDateTimee object is\n",
    "\n",
    "\r\n",
    "{4 digit year}-{2 digit month}-{2 digit day} {hour in 24 hour time}:{minute}:{seconds}.{microsecond\n",
    " s}\r\n",
    "We can represent this format using a format strin\n",
    "\n",
    "g: \"%Y-%m-%d %H:%M:%S.  f\" (which we will explain in the next secti  \n",
    "oDateTimetime objects have a method that controls which format is used for printed/text versions of the date, called .strftime"
   ]
  },
  {
   "cell_type": "code",
   "execution_count": 8,
   "id": "23ed5594-cb15-460a-8907-d6ee57f33591",
   "metadata": {},
   "outputs": [
    {
     "data": {
      "text/plain": [
       "'18'"
      ]
     },
     "execution_count": 8,
     "metadata": {},
     "output_type": "execute_result"
    }
   ],
   "source": [
    "format_a = '%d'\n",
    "now.strftime(format_a)"
   ]
  },
  {
   "cell_type": "code",
   "execution_count": 9,
   "id": "2ea0d1a5-3821-458d-a478-52d5f294e61f",
   "metadata": {},
   "outputs": [
    {
     "data": {
      "text/plain": [
       "'December 18'"
      ]
     },
     "execution_count": 9,
     "metadata": {},
     "output_type": "execute_result"
    }
   ],
   "source": [
    "format_b = '%B %d'\n",
    "now.strftime(format_b)"
   ]
  },
  {
   "cell_type": "code",
   "execution_count": 10,
   "id": "cd99ec6d-e109-4442-a075-d7f0157cb388",
   "metadata": {},
   "outputs": [
    {
     "data": {
      "text/plain": [
       "'Mon, December 18'"
      ]
     },
     "execution_count": 10,
     "metadata": {},
     "output_type": "execute_result"
    }
   ],
   "source": [
    "format_c = '%a, %B %d'\n",
    "now.strftime(format_c)"
   ]
  },
  {
   "cell_type": "code",
   "execution_count": 11,
   "id": "c97ea4d8-5bfa-4e23-907f-a013838a4b37",
   "metadata": {},
   "outputs": [
    {
     "data": {
      "text/plain": [
       "'Mon, December 18, 2023'"
      ]
     },
     "execution_count": 11,
     "metadata": {},
     "output_type": "execute_result"
    }
   ],
   "source": [
    "format_d = '%a, %B %d, %Y'\n",
    "now.strftime(format_d)"
   ]
  },
  {
   "cell_type": "code",
   "execution_count": 13,
   "id": "b05c6b4e-088e-4b8f-81ad-18e23d56b6a8",
   "metadata": {},
   "outputs": [
    {
     "data": {
      "text/plain": [
       "'12/18/2023 09:56:25 AM'"
      ]
     },
     "execution_count": 13,
     "metadata": {},
     "output_type": "execute_result"
    }
   ],
   "source": [
    "format_e = '%m/%d/%Y %I:%M:%S %p'\n",
    "now.strftime(format_e)"
   ]
  },
  {
   "cell_type": "code",
   "execution_count": 14,
   "id": "89253c7f-7d88-479d-ac73-5326d78d1177",
   "metadata": {},
   "outputs": [
    {
     "data": {
      "text/plain": [
       "'09:56:25'"
      ]
     },
     "execution_count": 14,
     "metadata": {},
     "output_type": "execute_result"
    }
   ],
   "source": [
    "now.strftime('%T')"
   ]
  }
 ],
 "metadata": {
  "kernelspec": {
   "display_name": "Python (dojo-env)",
   "language": "python",
   "name": "dojo-env"
  },
  "language_info": {
   "codemirror_mode": {
    "name": "ipython",
    "version": 3
   },
   "file_extension": ".py",
   "mimetype": "text/x-python",
   "name": "python",
   "nbconvert_exporter": "python",
   "pygments_lexer": "ipython3",
   "version": "3.10.10"
  },
  "widgets": {
   "application/vnd.jupyter.widget-state+json": {
    "state": {},
    "version_major": 2,
    "version_minor": 0
   }
  }
 },
 "nbformat": 4,
 "nbformat_minor": 5
}
